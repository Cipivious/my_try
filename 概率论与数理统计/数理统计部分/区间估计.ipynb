{
 "cells": [
  {
   "cell_type": "markdown",
   "metadata": {},
   "source": [
    "# 区间估计\n",
    "\n",
    "在实际的估计当中，往往不能够准确的估计出确定的数值，参数估计虽然有可取性，但很多时候也并不是很准确，但是引入了一个区间的概念以后，就可以让准确度提高一些，在这里我们给这个准确度起了一个专业的名称叫做置信度，而对应的那个区间我们把它称作置信区间。置信度和置信区间是一一对应的。为了更好的衡量置信度，我们把它进行了量化，用（1-alpha）来描述，alpha 被称为显著水平。 \n",
    "\n",
    "这个进行计算的时候的本质就相当于在概率已经确定的情况下求对应的随机变量的的取值"
   ]
  },
  {
   "cell_type": "code",
   "execution_count": null,
   "metadata": {},
   "outputs": [],
   "source": [
    "# 这个例子是求解不出来的，stats 不提供这么强大的符号计算功能\n",
    "import sympy as sp \n",
    "import sympy.stats as st \n",
    "\n",
    "mu, sigma = sp.symbols('mu sigma')\n",
    "N = st.Normal('N', mu, sigma)\n",
    "\n",
    "x, alpha = sp.symbols('x alpha')\n",
    "result = sp.solve(st.P(N > x) >= alpha, mu)\n",
    "result\n"
   ]
  },
  {
   "cell_type": "code",
   "execution_count": 10,
   "metadata": {},
   "outputs": [
    {
     "data": {
      "text/plain": [
       "np.float64(-1.6448536269514722)"
      ]
     },
     "execution_count": 10,
     "metadata": {},
     "output_type": "execute_result"
    }
   ],
   "source": [
    "# 这个例子是使用了 ppf， 也就是分位数函数，它是由分布函数的计算值反推随机变量数值的函数\n",
    "import sympy as sp\n",
    "from scipy.stats import norm\n",
    "\n",
    "# 定义符号\n",
    "mu, sigma, x = sp.symbols('mu sigma x')\n",
    "\n",
    "# 设定 alpha 的值（例如 0.05）\n",
    "alpha_value = 1-0.05\n",
    "\n",
    "# 计算不等式的右边\n",
    "# 使用 SciPy 的 norm.ppf 计算正态分布的PPF\n",
    "ppf_value = norm.ppf(1 - alpha_value)\n",
    "\n",
    "ppf_value\n",
    "# # 解出 mu 的范围\n",
    "# result = sp.solve(mu - (x - sigma * ppf_value) >= 0, mu)\n",
    "# result"
   ]
  },
  {
   "cell_type": "code",
   "execution_count": 23,
   "metadata": {},
   "outputs": [
    {
     "name": "stdout",
     "output_type": "stream",
     "text": [
      "sqrt(2)*exp(-mu**2/sigma**2)*Integral(exp(-x**2/sigma**2)*exp(2*mu*x/sigma**2), (x, -oo, x))/(2*sqrt(pi))\n"
     ]
    }
   ],
   "source": [
    "import sympy as sp\n",
    "\n",
    "# 定义符号\n",
    "mu, sigma, x, alpha = sp.symbols('mu sigma x alpha')\n",
    "\n",
    "# 定义正态分布的概率密度函数 (PDF)\n",
    "N = (1 / sp.sqrt(2 * sp.pi)) * sp.exp(-((x - mu) / sigma)**2)\n",
    "\n",
    "cdf = sp.integrate(N,(x, -sp.oo, x))\n",
    "\n",
    "\n",
    "# 将不等式转化为简单的形式 N >= alpha\n",
    "inequality = sp.Eq(cdf, alpha)\n",
    "# 解出 mu\n",
    "result = sp.solve(inequality, x)\n",
    "result\n",
    "\n"
   ]
  }
 ],
 "metadata": {
  "kernelspec": {
   "display_name": "math",
   "language": "python",
   "name": "python3"
  },
  "language_info": {
   "codemirror_mode": {
    "name": "ipython",
    "version": 3
   },
   "file_extension": ".py",
   "mimetype": "text/x-python",
   "name": "python",
   "nbconvert_exporter": "python",
   "pygments_lexer": "ipython3",
   "version": "3.12.0"
  }
 },
 "nbformat": 4,
 "nbformat_minor": 2
}

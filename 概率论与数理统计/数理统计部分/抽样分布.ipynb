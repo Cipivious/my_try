{
 "cells": [
  {
   "cell_type": "markdown",
   "metadata": {},
   "source": [
    "# 抽样分布\n",
    "\n",
    "统计量的分布称为抽样分布\n",
    "\n",
    "要先得到样本服从的分布，然后计算对应的特征函数，再通过特征函数求得对应的统计量的分布。\n",
    "\n",
    "## 结论：\n",
    "\n",
    "1. 样本均值的分布服从正态分布\n",
    "2. 样本的方差和一定的系数组合以后服从卡方分布\n",
    "3. 样本均值和样本方差相互独立\n"
   ]
  },
  {
   "cell_type": "code",
   "execution_count": 21,
   "metadata": {},
   "outputs": [
    {
     "data": {
      "text/latex": [
       "$\\displaystyle e^{i \\mu t - \\frac{\\sigma^{2} t^{2}}{2}}$"
      ],
      "text/plain": [
       "exp(I*mu*t - sigma**2*t**2/2)"
      ]
     },
     "execution_count": 21,
     "metadata": {},
     "output_type": "execute_result"
    }
   ],
   "source": [
    "import sympy as sp \n",
    "import sympy.stats as st\n",
    "\n",
    "mu, sigma, t = sp.symbols('mu sigma t', real=True)\n",
    "\n",
    "N = st.Normal(\"N\", mu, sigma)\n",
    "\n",
    "st.characteristic_function(N)(t)\n"
   ]
  },
  {
   "cell_type": "code",
   "execution_count": 13,
   "metadata": {},
   "outputs": [
    {
     "data": {
      "text/latex": [
       "$\\displaystyle \\frac{\\sqrt{2} \\mathcal{F}_{x}\\left[e^{- \\frac{\\left(- \\mu + x\\right)^{2}}{\\sigma^{2}}}\\right]\\left(k\\right)}{2 \\sqrt{\\pi} \\sqrt{\\sigma^{2}}}$"
      ],
      "text/plain": [
       "sqrt(2)*FourierTransform(exp(-(-mu + x)**2/sigma**2), x, k)/(2*sqrt(pi)*sqrt(sigma**2))"
      ]
     },
     "execution_count": 13,
     "metadata": {},
     "output_type": "execute_result"
    }
   ],
   "source": [
    "import sympy as sp \n",
    "\n",
    "mu, sigma, x, k = sp.symbols('mu sigma x k')\n",
    "\n",
    "f = (1/sp.sqrt(2*sp.pi*sigma**2)) * sp.exp(-(x-mu)**2/sigma**2)\n",
    "\n",
    "sp.fourier_transform(f, x, k)"
   ]
  },
  {
   "cell_type": "code",
   "execution_count": 20,
   "metadata": {},
   "outputs": [
    {
     "data": {
      "text/latex": [
       "$\\displaystyle \\sqrt{\\pi} e^{- \\pi^{2} k^{2}}$"
      ],
      "text/plain": [
       "sqrt(pi)*exp(-pi**2*k**2)"
      ]
     },
     "execution_count": 20,
     "metadata": {},
     "output_type": "execute_result"
    }
   ],
   "source": [
    "sp.fourier_transform(sp.exp(-x**2), x, k)\n",
    "\n"
   ]
  }
 ],
 "metadata": {
  "kernelspec": {
   "display_name": "math",
   "language": "python",
   "name": "python3"
  },
  "language_info": {
   "codemirror_mode": {
    "name": "ipython",
    "version": 3
   },
   "file_extension": ".py",
   "mimetype": "text/x-python",
   "name": "python",
   "nbconvert_exporter": "python",
   "pygments_lexer": "ipython3",
   "version": "3.12.0"
  }
 },
 "nbformat": 4,
 "nbformat_minor": 2
}

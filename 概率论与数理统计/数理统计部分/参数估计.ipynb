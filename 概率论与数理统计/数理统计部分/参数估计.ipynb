{
 "cells": [
  {
   "cell_type": "markdown",
   "metadata": {},
   "source": [
    "# 参数估计\n",
    "\n",
    "## 矩估计\n",
    "\n",
    "矩指得是 sp.summation(X**k,(i, 1, n))/n，其中 k 为矩估计的阶数。\n",
    "对于随机变量，如果在分布的形式已知的情况下，可以求出带参数的矩的表达式，然后可以和实际的样本的矩的观测值来进行比较，从而获得参数的估计值。\n",
    "用这种方式来求参数的估计值称为矩估计。\n",
    "\n",
    "## 极大似然估计\n",
    "\n",
    "它先构造一个表达式，然后求对数之后再计算取极值时对应参数的值，当这个表达式的取值为最大的时候，也就是最接近这是情况的时候，因为真实出现的情况就可以看作时出现可能性最大的情况，这个就是背后的原理。\n"
   ]
  },
  {
   "cell_type": "code",
   "execution_count": 2,
   "metadata": {},
   "outputs": [
    {
     "name": "stdout",
     "output_type": "stream",
     "text": [
      "矩估计量 p = 0.4166666666666667\n",
      "最大似然估计量 p = 0.5\n"
     ]
    }
   ],
   "source": [
    "# ![20240917081108](https://raw.githubusercontent.com/Cipivious/my_try/main/img/20240917081108.png)\n",
    "import numpy as np\n",
    "from scipy.optimize import minimize\n",
    "\n",
    "# 样本数据（假设为 X_1, X_2, ..., X_n）\n",
    "sample_data = np.array([2, 3, 1, 4, 2])  # 示例数据，请用实际数据替换\n",
    "\n",
    "# 1. 矩估计量\n",
    "sample_mean = np.mean(sample_data)\n",
    "moment_estimate_p = 1 / sample_mean\n",
    "print(f\"矩估计量 p = {moment_estimate_p}\")\n",
    "\n",
    "# 2. 最大似然估计量\n",
    "def negative_log_likelihood(p, data):\n",
    "    if p <= 0 or p >= 1:\n",
    "        return np.inf  # 避免非物理意义的 p 值\n",
    "    log_likelihood = len(data) * np.log(p) + np.sum((data - 1) * np.log(1 - p))\n",
    "    return -log_likelihood  # 求负，因为 scipy 的 minimize 函数是求最小值\n",
    "\n",
    "# 使用 scipy.optimize.minimize 求解最大似然估计量\n",
    "initial_guess = 0.5  # 初始值\n",
    "result = minimize(negative_log_likelihood, initial_guess, args=(sample_data,), bounds=[(0, 1)])\n",
    "mle_estimate_p = result.x[0]\n",
    "\n",
    "print(f\"最大似然估计量 p = {mle_estimate_p}\")\n"
   ]
  },
  {
   "cell_type": "code",
   "execution_count": 3,
   "metadata": {},
   "outputs": [
    {
     "name": "stdout",
     "output_type": "stream",
     "text": [
      "矩估计量 p = 0.4166666666666667\n",
      "最大似然估计量 p = 0.5\n"
     ]
    }
   ],
   "source": [
    "import numpy as np\n",
    "from scipy.optimize import minimize\n",
    "\n",
    "# 样本数据（假设为 X_1, X_2, ..., X_n）\n",
    "sample_data = np.array([2, 3, 1, 4, 2])  # 示例数据，请用实际数据替换\n",
    "\n",
    "# 1. 矩估计量\n",
    "sample_mean = np.mean(sample_data)\n",
    "moment_estimate_p = 1 / sample_mean\n",
    "print(f\"矩估计量 p = {moment_estimate_p}\")\n",
    "\n",
    "# 2. 最大似然估计量\n",
    "def negative_log_likelihood(p, data):\n",
    "    if p <= 0 or p >= 1:\n",
    "        return np.inf  # 避免非物理意义的 p 值\n",
    "    log_likelihood = len(data) * np.log(p) + np.sum((data - 1) * np.log(1 - p))\n",
    "    return -log_likelihood  # 求负，因为 scipy 的 minimize 函数是求最小值\n",
    "\n",
    "# 使用 scipy.optimize.minimize 求解最大似然估计量\n",
    "initial_guess = 0.5  # 初始值\n",
    "result = minimize(negative_log_likelihood, initial_guess, args=(sample_data,), bounds=[(0, 1)])\n",
    "mle_estimate_p = result.x[0]\n",
    "\n",
    "print(f\"最大似然估计量 p = {mle_estimate_p}\")\n"
   ]
  },
  {
   "cell_type": "code",
   "execution_count": 13,
   "metadata": {},
   "outputs": [
    {
     "data": {
      "text/latex": [
       "$\\displaystyle \\frac{5}{X_{1} + X_{2} + X_{3} + X_{4} + X_{5}}$"
      ],
      "text/plain": [
       "5/(X1 + X2 + X3 + X4 + X5)"
      ]
     },
     "execution_count": 13,
     "metadata": {},
     "output_type": "execute_result"
    }
   ],
   "source": [
    "import sympy as sp\n",
    "\n",
    "p, k = sp.symbols('p k', positive=True)\n",
    "n_samples = 5\n",
    "X = sp.symbols(\"X1:%d\" % (n_samples + 1))\n",
    "\n",
    "sample_mean = sum(X)/n_samples\n",
    "moment_estimate_p = sp.Eq(1/p, sample_mean)\n",
    "p_moment_estimate = sp.solve(moment_estimate_p, p)[0]\n",
    "p_moment_estimate"
   ]
  },
  {
   "cell_type": "code",
   "execution_count": 2,
   "metadata": {},
   "outputs": [
    {
     "ename": "TypeError",
     "evalue": "cannot determine truth value of Relational",
     "output_type": "error",
     "traceback": [
      "\u001b[1;31m---------------------------------------------------------------------------\u001b[0m",
      "\u001b[1;31mTypeError\u001b[0m                                 Traceback (most recent call last)",
      "Cell \u001b[1;32mIn[2], line 22\u001b[0m\n\u001b[0;32m     14\u001b[0m         \u001b[38;5;28;01mreturn\u001b[39;00m \u001b[38;5;241m1\u001b[39m\u001b[38;5;241m/\u001b[39m(\u001b[38;5;241m1\u001b[39m\u001b[38;5;241m-\u001b[39mpara)\n\u001b[0;32m     17\u001b[0m \u001b[38;5;66;03m# para = sp.symbols(\"p\")\u001b[39;00m\n\u001b[0;32m     18\u001b[0m \u001b[38;5;66;03m# data = sp.symbols(\"X1:%d\" % 10)\u001b[39;00m\n\u001b[0;32m     19\u001b[0m \u001b[38;5;66;03m# def func(x):\u001b[39;00m\n\u001b[0;32m     20\u001b[0m \u001b[38;5;66;03m#     return para * (1 - para) ** (x - 1)\u001b[39;00m\n\u001b[1;32m---> 22\u001b[0m result \u001b[38;5;241m=\u001b[39m likelihood(func\u001b[38;5;241m=\u001b[39mfunc, data\u001b[38;5;241m=\u001b[39mdata, para\u001b[38;5;241m=\u001b[39mpara)\n\u001b[0;32m     23\u001b[0m \u001b[38;5;28mprint\u001b[39m(result)\n",
      "Cell \u001b[1;32mIn[2], line 4\u001b[0m, in \u001b[0;36mlikelihood\u001b[1;34m(func, data, para)\u001b[0m\n\u001b[0;32m      3\u001b[0m \u001b[38;5;28;01mdef\u001b[39;00m \u001b[38;5;21mlikelihood\u001b[39m(func, data, para):\n\u001b[1;32m----> 4\u001b[0m     expr \u001b[38;5;241m=\u001b[39m sp\u001b[38;5;241m.\u001b[39mprod(func(row) \u001b[38;5;28;01mfor\u001b[39;00m row \u001b[38;5;129;01min\u001b[39;00m data)\n\u001b[0;32m      5\u001b[0m     log_expr \u001b[38;5;241m=\u001b[39m sp\u001b[38;5;241m.\u001b[39mlog(expr)\n\u001b[0;32m      6\u001b[0m     diff_expr \u001b[38;5;241m=\u001b[39m sp\u001b[38;5;241m.\u001b[39mdiff(log_expr, para)\n",
      "File \u001b[1;32mc:\\ProgramData\\miniconda3\\envs\\math\\Lib\\site-packages\\sympy\\core\\mul.py:2120\u001b[0m, in \u001b[0;36mprod\u001b[1;34m(a, start)\u001b[0m\n\u001b[0;32m   2097\u001b[0m \u001b[38;5;28;01mdef\u001b[39;00m \u001b[38;5;21mprod\u001b[39m(a, start\u001b[38;5;241m=\u001b[39m\u001b[38;5;241m1\u001b[39m):\n\u001b[0;32m   2098\u001b[0m \u001b[38;5;250m    \u001b[39m\u001b[38;5;124;03m\"\"\"Return product of elements of a. Start with int 1 so if only\u001b[39;00m\n\u001b[0;32m   2099\u001b[0m \u001b[38;5;124;03m       ints are included then an int result is returned.\u001b[39;00m\n\u001b[0;32m   2100\u001b[0m \n\u001b[1;32m   (...)\u001b[0m\n\u001b[0;32m   2118\u001b[0m \n\u001b[0;32m   2119\u001b[0m \u001b[38;5;124;03m    \"\"\"\u001b[39;00m\n\u001b[1;32m-> 2120\u001b[0m     \u001b[38;5;28;01mreturn\u001b[39;00m reduce(operator\u001b[38;5;241m.\u001b[39mmul, a, start)\n",
      "Cell \u001b[1;32mIn[2], line 4\u001b[0m, in \u001b[0;36m<genexpr>\u001b[1;34m(.0)\u001b[0m\n\u001b[0;32m      3\u001b[0m \u001b[38;5;28;01mdef\u001b[39;00m \u001b[38;5;21mlikelihood\u001b[39m(func, data, para):\n\u001b[1;32m----> 4\u001b[0m     expr \u001b[38;5;241m=\u001b[39m sp\u001b[38;5;241m.\u001b[39mprod(func(row) \u001b[38;5;28;01mfor\u001b[39;00m row \u001b[38;5;129;01min\u001b[39;00m data)\n\u001b[0;32m      5\u001b[0m     log_expr \u001b[38;5;241m=\u001b[39m sp\u001b[38;5;241m.\u001b[39mlog(expr)\n\u001b[0;32m      6\u001b[0m     diff_expr \u001b[38;5;241m=\u001b[39m sp\u001b[38;5;241m.\u001b[39mdiff(log_expr, para)\n",
      "Cell \u001b[1;32mIn[2], line 13\u001b[0m, in \u001b[0;36mfunc\u001b[1;34m(x)\u001b[0m\n\u001b[0;32m     12\u001b[0m \u001b[38;5;28;01mdef\u001b[39;00m \u001b[38;5;21mfunc\u001b[39m(x):\n\u001b[1;32m---> 13\u001b[0m     \u001b[38;5;28;01mif\u001b[39;00m(para \u001b[38;5;241m<\u001b[39m\u001b[38;5;241m=\u001b[39m x \u001b[38;5;129;01mor\u001b[39;00m x \u001b[38;5;241m<\u001b[39m\u001b[38;5;241m=\u001b[39m \u001b[38;5;241m1\u001b[39m):\n\u001b[0;32m     14\u001b[0m         \u001b[38;5;28;01mreturn\u001b[39;00m \u001b[38;5;241m1\u001b[39m\u001b[38;5;241m/\u001b[39m(\u001b[38;5;241m1\u001b[39m\u001b[38;5;241m-\u001b[39mpara)\n",
      "File \u001b[1;32mc:\\ProgramData\\miniconda3\\envs\\math\\Lib\\site-packages\\sympy\\core\\relational.py:516\u001b[0m, in \u001b[0;36mRelational.__bool__\u001b[1;34m(self)\u001b[0m\n\u001b[0;32m    515\u001b[0m \u001b[38;5;28;01mdef\u001b[39;00m \u001b[38;5;21m__bool__\u001b[39m(\u001b[38;5;28mself\u001b[39m):\n\u001b[1;32m--> 516\u001b[0m     \u001b[38;5;28;01mraise\u001b[39;00m \u001b[38;5;167;01mTypeError\u001b[39;00m(\u001b[38;5;124m\"\u001b[39m\u001b[38;5;124mcannot determine truth value of Relational\u001b[39m\u001b[38;5;124m\"\u001b[39m)\n",
      "\u001b[1;31mTypeError\u001b[0m: cannot determine truth value of Relational"
     ]
    }
   ],
   "source": [
    "import sympy as sp\n",
    "\n",
    "def likelihood(func, data, para):\n",
    "    expr = sp.prod(func(row) for row in data)\n",
    "    log_expr = sp.log(expr)\n",
    "    diff_expr = sp.diff(log_expr, para)\n",
    "    result = sp.solve(diff_expr, para)[0]\n",
    "    return result\n",
    "\n",
    "para = sp.symbols(\"theta\")\n",
    "data = sp.symbols(\"X1:%d\" % 10)\n",
    "# 用Piecewise来定义带有条件的不等式函数\n",
    "def func(x):\n",
    "    return sp.Piecewise(\n",
    "        (1 / (1 - para), (para <= x) & (x <= 1)),  # 条件为 para <= x <= 1\n",
    "        (0, True)  # 否则返回 0\n",
    "    )\n",
    "\n",
    "\n",
    "# para = sp.symbols(\"p\")\n",
    "# data = sp.symbols(\"X1:%d\" % 10)\n",
    "# def func(x):\n",
    "#     return para * (1 - para) ** (x - 1)\n",
    "\n",
    "result = likelihood(func=func, data=data, para=para)\n",
    "print(result)\n",
    "    "
   ]
  },
  {
   "cell_type": "code",
   "execution_count": null,
   "metadata": {},
   "outputs": [],
   "source": []
  }
 ],
 "metadata": {
  "kernelspec": {
   "display_name": "math",
   "language": "python",
   "name": "python3"
  },
  "language_info": {
   "codemirror_mode": {
    "name": "ipython",
    "version": 3
   },
   "file_extension": ".py",
   "mimetype": "text/x-python",
   "name": "python",
   "nbconvert_exporter": "python",
   "pygments_lexer": "ipython3",
   "version": "3.12.0"
  }
 },
 "nbformat": 4,
 "nbformat_minor": 2
}

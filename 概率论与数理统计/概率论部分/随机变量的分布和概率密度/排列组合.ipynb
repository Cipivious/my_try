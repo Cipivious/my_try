{
 "cells": [
  {
   "cell_type": "code",
   "execution_count": 7,
   "metadata": {},
   "outputs": [
    {
     "name": "stdout",
     "output_type": "stream",
     "text": [
      "120\n"
     ]
    }
   ],
   "source": [
    "import math\n",
    "perm_number = math.perm(5)\n",
    "print(perm_number)"
   ]
  },
  {
   "cell_type": "code",
   "execution_count": 8,
   "metadata": {},
   "outputs": [
    {
     "name": "stdout",
     "output_type": "stream",
     "text": [
      "93206558875049876949581681100\n"
     ]
    }
   ],
   "source": [
    "import math\n",
    "comb_number = math.comb(100, 48)\n",
    "print(comb_number)"
   ]
  },
  {
   "cell_type": "code",
   "execution_count": 16,
   "metadata": {},
   "outputs": [
    {
     "name": "stdout",
     "output_type": "stream",
     "text": [
      "True\n",
      "True\n"
     ]
    }
   ],
   "source": [
    "def mutual_things(thing_a, thing_b, full_thing):\n",
    "    if not(thing_a - thing_b):\n",
    "        return False\n",
    "    if not(thing_b - thing_a):\n",
    "        return False\n",
    "    if not(thing_a | thing_b == full_thing):\n",
    "        return False\n",
    "    return True\n",
    "\n",
    "thing_a = {1, 3, 5}\n",
    "thing_b = {2, 4, 6}\n",
    "full_thing = {i for i in range(1, 7)}\n",
    "\n",
    "result = mutual_things(thing_a=thing_a, thing_b=thing_b, full_thing=full_thing)\n",
    "print(result)\n",
    "\n",
    "def p(thing):\n",
    "    return len(thing)/len(full_thing)\n",
    "\n",
    "print(p(thing_a - thing_b) == p(thing_a) - p(thing_b & thing_a))"
   ]
  },
  {
   "cell_type": "code",
   "execution_count": 18,
   "metadata": {},
   "outputs": [
    {
     "name": "stdout",
     "output_type": "stream",
     "text": [
      "P(B-A) is:  0.200000000000000\n"
     ]
    }
   ],
   "source": [
    "# P(A-B) = P(A) - P(AB) =P(A) - P(A) * P(B) = 0.3\n",
    "# P(B) = 0.5\n",
    "# P(B-A) = P(B) - P(AB) = \n",
    "import sympy as sp\n",
    "\n",
    "p1, p2 = sp.symbols(\"P(A) P(B)\")\n",
    "eq1 = sp.Eq(p1 - p1 * p2, 0.3)\n",
    "eq2 = sp.Eq(p2, 0.5)\n",
    "p1, p2 = sp.solve([eq1, eq2], (p1, p2))[0]\n",
    "print(\"P(B-A) is: \", p2 - p1*p2)\n",
    "\n"
   ]
  },
  {
   "cell_type": "code",
   "execution_count": 19,
   "metadata": {},
   "outputs": [
    {
     "name": "stdout",
     "output_type": "stream",
     "text": [
      "0.42857142857142855\n"
     ]
    }
   ],
   "source": [
    "# 4红4白，取出2个红球和一个白球\n",
    "# 1. 一次性取三个球\n",
    "import math\n",
    "p = (math.comb(4, 2)*math.comb(4,1))/math.comb(8,3)\n",
    "print(p)"
   ]
  },
  {
   "cell_type": "code",
   "execution_count": 20,
   "metadata": {},
   "outputs": [
    {
     "name": "stdout",
     "output_type": "stream",
     "text": [
      "0.42857142857142855\n"
     ]
    }
   ],
   "source": [
    "# 2. 依次取三个球\n",
    "import math\n",
    "p = (math.comb(4, 1)*math.comb(4,2)*math.perm(3))/math.perm(8,3)\n",
    "print(p)"
   ]
  },
  {
   "cell_type": "code",
   "execution_count": 23,
   "metadata": {},
   "outputs": [
    {
     "name": "stdout",
     "output_type": "stream",
     "text": [
      "0.375\n"
     ]
    }
   ],
   "source": [
    "# 3. 逐个抽取，抽完无放回\n",
    "import math\n",
    "p_010 = 1/8\n",
    "p_001 = 1/8\n",
    "p_100 = 1/8\n",
    "p = p_001 + p_010 + p_100\n",
    "print(p)"
   ]
  },
  {
   "cell_type": "code",
   "execution_count": 24,
   "metadata": {},
   "outputs": [
    {
     "name": "stdout",
     "output_type": "stream",
     "text": [
      "0.5833333333333333\n"
     ]
    }
   ],
   "source": [
    "# P(A) = P(B) = P(C) = 0.25\n",
    "# P(AB) = 0 (A和B没有交集)\n",
    "# P(AC) = P(BC) = 1/6\n",
    "# P(A|B|C) = P(A) + P(B) + P(C) - P(AB) - P(AC) - P(BC) + 2*P(ABC)\n",
    "p = 3/4 - 1/3\n",
    "result = 1 - p\n",
    "print(result)"
   ]
  },
  {
   "cell_type": "code",
   "execution_count": null,
   "metadata": {},
   "outputs": [],
   "source": [
    "# P(A|B) = P(AB)/P(B) = 1/2\n",
    "# P(B|A) = P(AB)/P(A) = 1/2\n",
    "# P(A) = 1/3\n",
    "# P(B) = 1/3\n",
    "# P(AB) = 1/6\n",
    "# P(A+B) = P(A) + P(B) - P(AB) = 1/2"
   ]
  },
  {
   "cell_type": "code",
   "execution_count": null,
   "metadata": {
    "vscode": {
     "languageId": "latex"
    }
   },
   "outputs": [],
   "source": []
  }
 ],
 "metadata": {
  "kernelspec": {
   "display_name": "math",
   "language": "python",
   "name": "python3"
  },
  "language_info": {
   "codemirror_mode": {
    "name": "ipython",
    "version": 3
   },
   "file_extension": ".py",
   "mimetype": "text/x-python",
   "name": "python",
   "nbconvert_exporter": "python",
   "pygments_lexer": "ipython3",
   "version": "3.12.0"
  }
 },
 "nbformat": 4,
 "nbformat_minor": 2
}

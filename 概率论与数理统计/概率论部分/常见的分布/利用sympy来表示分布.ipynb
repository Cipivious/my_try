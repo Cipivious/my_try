{
 "cells": [
  {
   "cell_type": "code",
   "execution_count": 5,
   "metadata": {},
   "outputs": [
    {
     "name": "stdout",
     "output_type": "stream",
     "text": [
      "期望 E(X_mean): mu\n"
     ]
    }
   ],
   "source": [
    "import sympy as sp\n",
    "import sympy.stats as st\n",
    "# 定义符号变量\n",
    "n = sp.symbols('n', integer=True)\n",
    "mu, sigma = sp.symbols('mu sigma')\n",
    "\n",
    "n = 2\n",
    "# 定义正态分布随机变量\n",
    "X = [st.Normal(f'X{i}', mu, sigma**2) for i in range(1, n+1)]\n",
    "\n",
    "# 计算样本均值\n",
    "X_mean = sum(X) / n\n",
    "\n",
    "# 计算样本均值的期望\n",
    "E_X_mean = st.E(X_mean)\n",
    "print(\"期望 E(X_mean):\", E_X_mean)\n",
    "\n",
    "# # 计算样本均值的方差\n",
    "# Var_X_mean = st.variance(X_mean)\n",
    "# print(\"方差 Var(X_mean):\", Var_X_mean)\n"
   ]
  },
  {
   "cell_type": "code",
   "execution_count": 45,
   "metadata": {},
   "outputs": [
    {
     "name": "stdout",
     "output_type": "stream",
     "text": [
      "Piecewise((1 - exp(-x), x >= 0), (0, True))\n",
      "exp(-x)\n",
      "<class 'sympy.stats.rv.RandomSymbol'>\n",
      "1\n",
      "exp(-5)\n"
     ]
    },
    {
     "data": {
      "text/plain": [
       "sympy.stats.rv.RandomSymbol"
      ]
     },
     "execution_count": 45,
     "metadata": {},
     "output_type": "execute_result"
    }
   ],
   "source": [
    "import sympy as sp\n",
    "import sympy.stats as st\n",
    "x = sp.symbols('x')\n",
    "\n",
    "pdf = sp.exp(-x)\n",
    "Z = st.ContinuousRV(x, pdf, set=sp.Interval(0, sp.oo))\n",
    "dist = st.ContinuousDistributionHandmade(sp.Lambda(x, pdf), set=sp.Interval(0, sp.oo))\n",
    "print(dist.cdf(x))\n",
    "print(dist.pdf(x))\n",
    "# print(sp.E(dist))\n",
    "print(type(Z))\n",
    "print(st.E(Z))\n",
    "print(st.P(Z>5))\n",
    "st.cdf(Z)\n",
    "type(Z)"
   ]
  },
  {
   "cell_type": "code",
   "execution_count": 30,
   "metadata": {},
   "outputs": [
    {
     "data": {
      "text/latex": [
       "$\\displaystyle \\frac{1}{4}$"
      ],
      "text/plain": [
       "1/4"
      ]
     },
     "execution_count": 30,
     "metadata": {},
     "output_type": "execute_result"
    }
   ],
   "source": [
    "from sympy.stats import FiniteRV, P, E\n",
    "from sympy import Rational, Eq\n",
    "pmf = {1: Rational(1, 3), 2: Rational(1, 6), 3: Rational(1, 4), 4: Rational(1, 4)}\n",
    "X = FiniteRV('X', pmf)\n",
    "E(X)\n",
    "P(X > 3)"
   ]
  },
  {
   "cell_type": "code",
   "execution_count": 31,
   "metadata": {},
   "outputs": [
    {
     "data": {
      "text/latex": [
       "$\\displaystyle \\frac{1}{8}$"
      ],
      "text/plain": [
       "1/8"
      ]
     },
     "execution_count": 31,
     "metadata": {},
     "output_type": "execute_result"
    }
   ],
   "source": [
    "from sympy.stats import DiscreteRV, P, E\n",
    "from sympy import Symbol, S\n",
    "p = S(1)/2\n",
    "x = Symbol('x', integer=True, positive=True)\n",
    "pdf = p*(1 - p)**(x - 1)\n",
    "D = DiscreteRV(x, pdf, set=S.Naturals)\n",
    "E(D)\n",
    "P(D > 3)"
   ]
  },
  {
   "cell_type": "code",
   "execution_count": 40,
   "metadata": {},
   "outputs": [
    {
     "name": "stdout",
     "output_type": "stream",
     "text": [
      "<class 'sympy.stats.rv.RandomSymbol'>\n"
     ]
    },
    {
     "data": {
      "text/plain": [
       "sympy.core.numbers.One"
      ]
     },
     "execution_count": 40,
     "metadata": {},
     "output_type": "execute_result"
    }
   ],
   "source": [
    "import sympy as sp\n",
    "import sympy.stats as st \n",
    "\n",
    "D6 = st.Die('D6', 6)\n",
    "st.E(D6)\n",
    "print(type(D6))\n",
    "st.P(D6 < 2.1)\n",
    "st.density(D6).dict\n",
    "type(sp.S(1))"
   ]
  },
  {
   "cell_type": "code",
   "execution_count": null,
   "metadata": {},
   "outputs": [],
   "source": [
    "# n重伯努利实验\n",
    "from sympy.stats import Binomial, density\n",
    "from sympy import S, Symbol\n",
    "n = Symbol('n', positive=True, integer=True)\n",
    "p = Symbol('p', positive=True)\n",
    "X = Binomial('X', n, S.Half) # n \"coin flips\"\n",
    "density(X).dict\n",
    "density(X).dict.subs(n, 4).doit()"
   ]
  }
 ],
 "metadata": {
  "kernelspec": {
   "display_name": "math",
   "language": "python",
   "name": "python3"
  },
  "language_info": {
   "codemirror_mode": {
    "name": "ipython",
    "version": 3
   },
   "file_extension": ".py",
   "mimetype": "text/x-python",
   "name": "python",
   "nbconvert_exporter": "python",
   "pygments_lexer": "ipython3",
   "version": "3.12.0"
  }
 },
 "nbformat": 4,
 "nbformat_minor": 2
}

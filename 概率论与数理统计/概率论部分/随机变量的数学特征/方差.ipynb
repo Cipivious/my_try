{
 "cells": [
  {
   "cell_type": "markdown",
   "metadata": {},
   "source": [
    "# 方差\n",
    "\n",
    "<iframe src=\"//player.bilibili.com/player.html?isOutside=true&aid=48987857&bvid=BV14b411M7Jn&cid=85774042&p=13\" scrolling=\"no\" border=\"0\" frameborder=\"no\" framespacing=\"0\" allowfullscreen=\"true\"></iframe>\n",
    "方差是 gx = [X - E(X)]^2 这个函数的数学期望，记作D(X), 它的开方称为标准差或者均方差。   \n",
    "\n",
    "由定义化简以后可以得到：\n",
    "\n",
    "    ```latex\n",
    "    D(X) = E(X^2) - [E(X)]^2\n",
    "    ```\n",
    "\n",
    "`D(X+Y) = D(X) + D(Y) + 2*E([X-E(X)]*[Y-E(Y)])`\n",
    "\n",
    "这个表达式后面的部分称为协方差，用于表示两个变量之间的相关关系，有很多方法都可以判断两个量之间的相关关系。\n",
    "\n",
    "1. 协方差\n",
    "2. 定义法 P(AB) = P(A)*P(B) 联合 P(A|B) = P(AB) / P(B) 得 P(A) = P(A|B)，它表达的意思是不论B是否发生都不影响A发生的情况，也就是二者并不相关\n",
    "3. 二维联合概率密度函数与边缘密度函数之间的关系\n",
    "\n",
    "又由协方差我们定义了相关系数\n",
    "\n",
    "rou = cov(X, Y)/(sp.sqrt(D(X)) * sp.sqrt(D(Y)))\n",
    "\n",
    "它具有一些性质比如小于等于1\n"
   ]
  },
  {
   "cell_type": "code",
   "execution_count": 7,
   "metadata": {},
   "outputs": [
    {
     "name": "stdout",
     "output_type": "stream",
     "text": [
      "0\n",
      "1/2\n"
     ]
    }
   ],
   "source": [
    "import sympy as sp\n",
    "\n",
    "x = sp.symbols('x')\n",
    "\n",
    "Fx = sp.Piecewise(\n",
    "    (0, x < -1),\n",
    "    (1/2 + 1/sp.pi * sp.asin(x), sp.And(x >= -1, x <= 1)),\n",
    "    (1, x > 1)\n",
    ")\n",
    "\n",
    "fx = sp.diff(Fx, x)\n",
    "\n",
    "E_fx = sp.integrate(x*fx, (x, -sp.oo, sp.oo))\n",
    "print(E_fx)\n",
    "D_fx = sp.integrate((x - E_fx) ** 2 * fx, (x, -sp.oo, sp.oo))\n",
    "print(D_fx)"
   ]
  },
  {
   "cell_type": "code",
   "execution_count": null,
   "metadata": {},
   "outputs": [],
   "source": []
  }
 ],
 "metadata": {
  "kernelspec": {
   "display_name": "math",
   "language": "python",
   "name": "python3"
  },
  "language_info": {
   "codemirror_mode": {
    "name": "ipython",
    "version": 3
   },
   "file_extension": ".py",
   "mimetype": "text/x-python",
   "name": "python",
   "nbconvert_exporter": "python",
   "pygments_lexer": "ipython3",
   "version": "3.12.0"
  }
 },
 "nbformat": 4,
 "nbformat_minor": 2
}

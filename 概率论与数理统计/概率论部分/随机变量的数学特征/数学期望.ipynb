{
 "cells": [
  {
   "cell_type": "markdown",
   "metadata": {},
   "source": [
    "# 数学期望\n",
    "\n",
    "我们把 sp.integerate(fx*gx,(x, -sp.oo, sp.oo)) 称为 gx 这个函数在 fx 这个概率分布下的函数数学期望，特别的，如果 gx = x 的话，我们把这个称为 fx 的数学期望。上面是连续型随机变量的情况，如果是离散型随机变量的话上面的积分就退化为了求和。\n"
   ]
  },
  {
   "cell_type": "markdown",
   "metadata": {},
   "source": [
    "| 1 | 0 |\n",
    "| 2 | 3/4 * 3/4 |\n",
    "| 3 | 1/4 * 3/4 * 3/4 + 3/4 * 1/4 * 3/4 |\n",
    "\n",
    "f(x) = sp.summation()"
   ]
  },
  {
   "cell_type": "code",
   "execution_count": 1,
   "metadata": {},
   "outputs": [
    {
     "name": "stdout",
     "output_type": "stream",
     "text": [
      "9*0.25**(x - 2)*(x - 1)/16\n",
      "2.66666666666667\n"
     ]
    }
   ],
   "source": [
    "import sympy as sp\n",
    "import sympy.stats as st\n",
    "\n",
    "x = sp.symbols('x')\n",
    "p_win = 3/4\n",
    "p_lose = 1 - p_win\n",
    "\n",
    "fx = sp.binomial((x-1), 1) * (1/4) ** (x-2) * 3/4 * 3/4\n",
    "\n",
    "E_fx = sp.summation(x * fx, (x, 0, sp.oo))\n",
    "E_fx_new = st.E(fx)\n",
    "print(E_fx_new)\n",
    "print(E_fx)"
   ]
  },
  {
   "cell_type": "code",
   "execution_count": 2,
   "metadata": {},
   "outputs": [
    {
     "data": {
      "text/latex": [
       "$\\displaystyle 4$"
      ],
      "text/plain": [
       "4"
      ]
     },
     "execution_count": 2,
     "metadata": {},
     "output_type": "execute_result"
    }
   ],
   "source": [
    "sp.binomial(4,1)"
   ]
  },
  {
   "cell_type": "code",
   "execution_count": 14,
   "metadata": {},
   "outputs": [
    {
     "data": {
      "text/latex": [
       "$\\displaystyle 0.682689492137086$"
      ],
      "text/plain": [
       "0.682689492137086"
      ]
     },
     "execution_count": 14,
     "metadata": {},
     "output_type": "execute_result"
    }
   ],
   "source": [
    "import sympy as sp\n",
    "import sympy.stats as st\n",
    "\n",
    "Z = st.Normal('Z', 0, 1)\n",
    "sp.N(st.P(sp.And(Z>=-1, Z <= 1)))"
   ]
  },
  {
   "cell_type": "code",
   "execution_count": null,
   "metadata": {},
   "outputs": [],
   "source": []
  }
 ],
 "metadata": {
  "kernelspec": {
   "display_name": "math",
   "language": "python",
   "name": "python3"
  },
  "language_info": {
   "codemirror_mode": {
    "name": "ipython",
    "version": 3
   },
   "file_extension": ".py",
   "mimetype": "text/x-python",
   "name": "python",
   "nbconvert_exporter": "python",
   "pygments_lexer": "ipython3",
   "version": "3.12.0"
  }
 },
 "nbformat": 4,
 "nbformat_minor": 2
}

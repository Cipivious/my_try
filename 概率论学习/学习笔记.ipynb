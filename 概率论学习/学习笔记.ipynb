{
 "cells": [
  {
   "cell_type": "code",
   "execution_count": 1,
   "metadata": {},
   "outputs": [
    {
     "name": "stdout",
     "output_type": "stream",
     "text": [
      "0.0\n"
     ]
    }
   ],
   "source": [
    "import time\n",
    "print(f\"{time.time() - time.time()}\")"
   ]
  },
  {
   "cell_type": "code",
   "execution_count": 2,
   "metadata": {},
   "outputs": [
    {
     "name": "stdout",
     "output_type": "stream",
     "text": [
      "矩估计量 p = 0.4166666666666667\n",
      "最大似然估计量 p = 0.5\n"
     ]
    }
   ],
   "source": [
    "# ![20240917081108](https://raw.githubusercontent.com/Cipivious/my_try/main/img/20240917081108.png)\n",
    "import numpy as np\n",
    "from scipy.optimize import minimize\n",
    "\n",
    "# 样本数据（假设为 X_1, X_2, ..., X_n）\n",
    "sample_data = np.array([2, 3, 1, 4, 2])  # 示例数据，请用实际数据替换\n",
    "\n",
    "# 1. 矩估计量\n",
    "sample_mean = np.mean(sample_data)\n",
    "moment_estimate_p = 1 / sample_mean\n",
    "print(f\"矩估计量 p = {moment_estimate_p}\")\n",
    "\n",
    "# 2. 最大似然估计量\n",
    "def negative_log_likelihood(p, data):\n",
    "    if p <= 0 or p >= 1:\n",
    "        return np.inf  # 避免非物理意义的 p 值\n",
    "    log_likelihood = len(data) * np.log(p) + np.sum((data - 1) * np.log(1 - p))\n",
    "    return -log_likelihood  # 求负，因为 scipy 的 minimize 函数是求最小值\n",
    "\n",
    "# 使用 scipy.optimize.minimize 求解最大似然估计量\n",
    "initial_guess = 0.5  # 初始值\n",
    "result = minimize(negative_log_likelihood, initial_guess, args=(sample_data,), bounds=[(0, 1)])\n",
    "mle_estimate_p = result.x[0]\n",
    "\n",
    "print(f\"最大似然估计量 p = {mle_estimate_p}\")\n"
   ]
  },
  {
   "cell_type": "code",
   "execution_count": 3,
   "metadata": {},
   "outputs": [
    {
     "name": "stdout",
     "output_type": "stream",
     "text": [
      "矩估计量 p = 0.4166666666666667\n",
      "最大似然估计量 p = 0.5\n"
     ]
    }
   ],
   "source": [
    "import numpy as np\n",
    "from scipy.optimize import minimize\n",
    "\n",
    "# 样本数据（假设为 X_1, X_2, ..., X_n）\n",
    "sample_data = np.array([2, 3, 1, 4, 2])  # 示例数据，请用实际数据替换\n",
    "\n",
    "# 1. 矩估计量\n",
    "sample_mean = np.mean(sample_data)\n",
    "moment_estimate_p = 1 / sample_mean\n",
    "print(f\"矩估计量 p = {moment_estimate_p}\")\n",
    "\n",
    "# 2. 最大似然估计量\n",
    "def negative_log_likelihood(p, data):\n",
    "    if p <= 0 or p >= 1:\n",
    "        return np.inf  # 避免非物理意义的 p 值\n",
    "    log_likelihood = len(data) * np.log(p) + np.sum((data - 1) * np.log(1 - p))\n",
    "    return -log_likelihood  # 求负，因为 scipy 的 minimize 函数是求最小值\n",
    "\n",
    "# 使用 scipy.optimize.minimize 求解最大似然估计量\n",
    "initial_guess = 0.5  # 初始值\n",
    "result = minimize(negative_log_likelihood, initial_guess, args=(sample_data,), bounds=[(0, 1)])\n",
    "mle_estimate_p = result.x[0]\n",
    "\n",
    "print(f\"最大似然估计量 p = {mle_estimate_p}\")\n"
   ]
  },
  {
   "cell_type": "code",
   "execution_count": 13,
   "metadata": {},
   "outputs": [
    {
     "data": {
      "text/latex": [
       "$\\displaystyle \\frac{5}{X_{1} + X_{2} + X_{3} + X_{4} + X_{5}}$"
      ],
      "text/plain": [
       "5/(X1 + X2 + X3 + X4 + X5)"
      ]
     },
     "execution_count": 13,
     "metadata": {},
     "output_type": "execute_result"
    }
   ],
   "source": [
    "import sympy as sp\n",
    "\n",
    "p, k = sp.symbols('p k', positive=True)\n",
    "n_samples = 5\n",
    "X = sp.symbols(\"X1:%d\" % (n_samples + 1))\n",
    "\n",
    "sample_mean = sum(X)/n_samples\n",
    "moment_estimate_p = sp.Eq(1/p, sample_mean)\n",
    "p_moment_estimate = sp.solve(moment_estimate_p, p)[0]\n",
    "p_moment_estimate"
   ]
  },
  {
   "cell_type": "code",
   "execution_count": 14,
   "metadata": {},
   "outputs": [
    {
     "data": {
      "text/latex": [
       "$\\displaystyle \\frac{5}{X_{1} + X_{2} + X_{3} + X_{4} + X_{5}}$"
      ],
      "text/plain": [
       "5/(X1 + X2 + X3 + X4 + X5)"
      ]
     },
     "execution_count": 14,
     "metadata": {},
     "output_type": "execute_result"
    }
   ],
   "source": [
    "import sympy as sp\n",
    "\n",
    "p, k = sp.symbols('p k', positive=True)\n",
    "n_samples = 5\n",
    "X = sp.symbols(\"X1:%d\" % (n_samples + 1))\n",
    "# 1. 构建似然函数 L(p)\n",
    "likelihood = sp.prod(p * (1 - p) ** (X[i] - 1) for i in range(n_samples))\n",
    "\n",
    "# 2. 构建对数似然函数 ln(L(p))\n",
    "log_likelihood = sp.log(likelihood)\n",
    "\n",
    "# 3. 对 p 求导\n",
    "log_likelihood_diff = sp.diff(log_likelihood, p)\n",
    "\n",
    "# 4. 解出 p 的最大似然估计量\n",
    "mle_estimate_p = sp.solve(log_likelihood_diff, p)[0]\n",
    "mle_estimate_p"
   ]
  },
  {
   "cell_type": "code",
   "execution_count": 30,
   "metadata": {},
   "outputs": [
    {
     "name": "stdout",
     "output_type": "stream",
     "text": [
      "((theta**2/X1**3)**exp(-theta/X1)*(theta**2/X2**3)**exp(-theta/X2)*(theta**2/X3**3)**exp(-theta/X3)*(theta**2/X4**3)**exp(-theta/X4)*(theta**2/X5**3)**exp(-theta/X5)*(theta**2/X6**3)**exp(-theta/X6)*(2*exp(-theta/X1)/theta - exp(-theta/X1)*log(theta**2/X1**3)/X1) + (theta**2/X1**3)**exp(-theta/X1)*(theta**2/X2**3)**exp(-theta/X2)*(theta**2/X3**3)**exp(-theta/X3)*(theta**2/X4**3)**exp(-theta/X4)*(theta**2/X5**3)**exp(-theta/X5)*(theta**2/X6**3)**exp(-theta/X6)*(2*exp(-theta/X2)/theta - exp(-theta/X2)*log(theta**2/X2**3)/X2) + (theta**2/X1**3)**exp(-theta/X1)*(theta**2/X2**3)**exp(-theta/X2)*(theta**2/X3**3)**exp(-theta/X3)*(theta**2/X4**3)**exp(-theta/X4)*(theta**2/X5**3)**exp(-theta/X5)*(theta**2/X6**3)**exp(-theta/X6)*(2*exp(-theta/X3)/theta - exp(-theta/X3)*log(theta**2/X3**3)/X3) + (theta**2/X1**3)**exp(-theta/X1)*(theta**2/X2**3)**exp(-theta/X2)*(theta**2/X3**3)**exp(-theta/X3)*(theta**2/X4**3)**exp(-theta/X4)*(theta**2/X5**3)**exp(-theta/X5)*(theta**2/X6**3)**exp(-theta/X6)*(2*exp(-theta/X4)/theta - exp(-theta/X4)*log(theta**2/X4**3)/X4) + (theta**2/X1**3)**exp(-theta/X1)*(theta**2/X2**3)**exp(-theta/X2)*(theta**2/X3**3)**exp(-theta/X3)*(theta**2/X4**3)**exp(-theta/X4)*(theta**2/X5**3)**exp(-theta/X5)*(theta**2/X6**3)**exp(-theta/X6)*(2*exp(-theta/X5)/theta - exp(-theta/X5)*log(theta**2/X5**3)/X5) + (theta**2/X1**3)**exp(-theta/X1)*(theta**2/X2**3)**exp(-theta/X2)*(theta**2/X3**3)**exp(-theta/X3)*(theta**2/X4**3)**exp(-theta/X4)*(theta**2/X5**3)**exp(-theta/X5)*(theta**2/X6**3)**exp(-theta/X6)*(2*exp(-theta/X6)/theta - exp(-theta/X6)*log(theta**2/X6**3)/X6))/((theta**2/X1**3)**exp(-theta/X1)*(theta**2/X2**3)**exp(-theta/X2)*(theta**2/X3**3)**exp(-theta/X3)*(theta**2/X4**3)**exp(-theta/X4)*(theta**2/X5**3)**exp(-theta/X5)*(theta**2/X6**3)**exp(-theta/X6))\n"
     ]
    },
    {
     "ename": "NotImplementedError",
     "evalue": "multiple generators [(theta**2/X1**3)**exp(-theta/X1), (theta**2/X2**3)**exp(-theta/X2), (theta**2/X3**3)**exp(-theta/X3), (theta**2/X4**3)**exp(-theta/X4), (theta**2/X5**3)**exp(-theta/X5), (theta**2/X6**3)**exp(-theta/X6), exp(theta/X1), exp(theta/X2), exp(theta/X3), exp(theta/X4), exp(theta/X5), exp(theta/X6), log(theta**2/X1**3), log(theta**2/X2**3), log(theta**2/X3**3), log(theta**2/X4**3), log(theta**2/X5**3), log(theta**2/X6**3), theta]\nNo algorithms are implemented to solve equation (theta**2/X1**3)**exp(-theta/X1)*(theta**2/X2**3)**exp(-theta/X2)*(theta**2/X3**3)**exp(-theta/X3)*(theta**2/X4**3)**exp(-theta/X4)*(theta**2/X5**3)**exp(-theta/X5)*(theta**2/X6**3)**exp(-theta/X6)*(2*exp(-theta/X1)/theta - exp(-theta/X1)*log(theta**2/X1**3)/X1) + (theta**2/X1**3)**exp(-theta/X1)*(theta**2/X2**3)**exp(-theta/X2)*(theta**2/X3**3)**exp(-theta/X3)*(theta**2/X4**3)**exp(-theta/X4)*(theta**2/X5**3)**exp(-theta/X5)*(theta**2/X6**3)**exp(-theta/X6)*(2*exp(-theta/X2)/theta - exp(-theta/X2)*log(theta**2/X2**3)/X2) + (theta**2/X1**3)**exp(-theta/X1)*(theta**2/X2**3)**exp(-theta/X2)*(theta**2/X3**3)**exp(-theta/X3)*(theta**2/X4**3)**exp(-theta/X4)*(theta**2/X5**3)**exp(-theta/X5)*(theta**2/X6**3)**exp(-theta/X6)*(2*exp(-theta/X3)/theta - exp(-theta/X3)*log(theta**2/X3**3)/X3) + (theta**2/X1**3)**exp(-theta/X1)*(theta**2/X2**3)**exp(-theta/X2)*(theta**2/X3**3)**exp(-theta/X3)*(theta**2/X4**3)**exp(-theta/X4)*(theta**2/X5**3)**exp(-theta/X5)*(theta**2/X6**3)**exp(-theta/X6)*(2*exp(-theta/X4)/theta - exp(-theta/X4)*log(theta**2/X4**3)/X4) + (theta**2/X1**3)**exp(-theta/X1)*(theta**2/X2**3)**exp(-theta/X2)*(theta**2/X3**3)**exp(-theta/X3)*(theta**2/X4**3)**exp(-theta/X4)*(theta**2/X5**3)**exp(-theta/X5)*(theta**2/X6**3)**exp(-theta/X6)*(2*exp(-theta/X5)/theta - exp(-theta/X5)*log(theta**2/X5**3)/X5) + (theta**2/X1**3)**exp(-theta/X1)*(theta**2/X2**3)**exp(-theta/X2)*(theta**2/X3**3)**exp(-theta/X3)*(theta**2/X4**3)**exp(-theta/X4)*(theta**2/X5**3)**exp(-theta/X5)*(theta**2/X6**3)**exp(-theta/X6)*(2*exp(-theta/X6)/theta - exp(-theta/X6)*log(theta**2/X6**3)/X6)",
     "output_type": "error",
     "traceback": [
      "\u001b[1;31m---------------------------------------------------------------------------\u001b[0m",
      "\u001b[1;31mNotImplementedError\u001b[0m                       Traceback (most recent call last)",
      "Cell \u001b[1;32mIn[30], line 11\u001b[0m\n\u001b[0;32m      9\u001b[0m diff_result \u001b[38;5;241m=\u001b[39m sp\u001b[38;5;241m.\u001b[39mdiff(log_likelihood, theta)\n\u001b[0;32m     10\u001b[0m \u001b[38;5;28mprint\u001b[39m(diff_result)\n\u001b[1;32m---> 11\u001b[0m result \u001b[38;5;241m=\u001b[39m sp\u001b[38;5;241m.\u001b[39msolve(diff_result, theta)\n\u001b[0;32m     12\u001b[0m \u001b[38;5;28mprint\u001b[39m(result)\n",
      "File \u001b[1;32mc:\\ProgramData\\miniconda3\\envs\\math\\Lib\\site-packages\\sympy\\solvers\\solvers.py:1170\u001b[0m, in \u001b[0;36msolve\u001b[1;34m(f, *symbols, **flags)\u001b[0m\n\u001b[0;32m   1168\u001b[0m         solution \u001b[38;5;241m=\u001b[39m _solve_undetermined(f[\u001b[38;5;241m0\u001b[39m], symbols, flags)\n\u001b[0;32m   1169\u001b[0m     \u001b[38;5;28;01mif\u001b[39;00m \u001b[38;5;129;01mnot\u001b[39;00m solution:\n\u001b[1;32m-> 1170\u001b[0m         solution \u001b[38;5;241m=\u001b[39m _solve(f[\u001b[38;5;241m0\u001b[39m], \u001b[38;5;241m*\u001b[39msymbols, \u001b[38;5;241m*\u001b[39m\u001b[38;5;241m*\u001b[39mflags)\n\u001b[0;32m   1171\u001b[0m \u001b[38;5;28;01melse\u001b[39;00m:\n\u001b[0;32m   1172\u001b[0m     linear, solution \u001b[38;5;241m=\u001b[39m _solve_system(f, symbols, \u001b[38;5;241m*\u001b[39m\u001b[38;5;241m*\u001b[39mflags)\n",
      "File \u001b[1;32mc:\\ProgramData\\miniconda3\\envs\\math\\Lib\\site-packages\\sympy\\solvers\\solvers.py:1399\u001b[0m, in \u001b[0;36m_solve\u001b[1;34m(f, *symbols, **flags)\u001b[0m\n\u001b[0;32m   1397\u001b[0m         result \u001b[38;5;241m=\u001b[39m \u001b[38;5;28mset\u001b[39m()\n\u001b[0;32m   1398\u001b[0m         \u001b[38;5;28;01mbreak\u001b[39;00m\n\u001b[1;32m-> 1399\u001b[0m     soln \u001b[38;5;241m=\u001b[39m _vsolve(m, symbol, \u001b[38;5;241m*\u001b[39m\u001b[38;5;241m*\u001b[39mflags)\n\u001b[0;32m   1400\u001b[0m     result\u001b[38;5;241m.\u001b[39mupdate(\u001b[38;5;28mset\u001b[39m(soln))\n\u001b[0;32m   1401\u001b[0m result \u001b[38;5;241m=\u001b[39m [{symbol: v} \u001b[38;5;28;01mfor\u001b[39;00m v \u001b[38;5;129;01min\u001b[39;00m result]\n",
      "File \u001b[1;32mc:\\ProgramData\\miniconda3\\envs\\math\\Lib\\site-packages\\sympy\\solvers\\solvers.py:2642\u001b[0m, in \u001b[0;36m_vsolve\u001b[1;34m(e, s, **flags)\u001b[0m\n\u001b[0;32m   2640\u001b[0m \u001b[38;5;28;01mdef\u001b[39;00m \u001b[38;5;21m_vsolve\u001b[39m(e, s, \u001b[38;5;241m*\u001b[39m\u001b[38;5;241m*\u001b[39mflags):\n\u001b[0;32m   2641\u001b[0m \u001b[38;5;250m    \u001b[39m\u001b[38;5;124;03m\"\"\"return list of scalar values for the solution of e for symbol s\"\"\"\u001b[39;00m\n\u001b[1;32m-> 2642\u001b[0m     \u001b[38;5;28;01mreturn\u001b[39;00m [i[s] \u001b[38;5;28;01mfor\u001b[39;00m i \u001b[38;5;129;01min\u001b[39;00m _solve(e, s, \u001b[38;5;241m*\u001b[39m\u001b[38;5;241m*\u001b[39mflags)]\n",
      "File \u001b[1;32mc:\\ProgramData\\miniconda3\\envs\\math\\Lib\\site-packages\\sympy\\solvers\\solvers.py:1729\u001b[0m, in \u001b[0;36m_solve\u001b[1;34m(f, *symbols, **flags)\u001b[0m\n\u001b[0;32m   1726\u001b[0m \u001b[38;5;66;03m# ----------- end of fallback ----------------------------\u001b[39;00m\n\u001b[0;32m   1728\u001b[0m \u001b[38;5;28;01mif\u001b[39;00m result \u001b[38;5;129;01mis\u001b[39;00m \u001b[38;5;28;01mFalse\u001b[39;00m:\n\u001b[1;32m-> 1729\u001b[0m     \u001b[38;5;28;01mraise\u001b[39;00m \u001b[38;5;167;01mNotImplementedError\u001b[39;00m(\u001b[38;5;124m'\u001b[39m\u001b[38;5;130;01m\\n\u001b[39;00m\u001b[38;5;124m'\u001b[39m\u001b[38;5;241m.\u001b[39mjoin([msg, not_impl_msg \u001b[38;5;241m%\u001b[39m f]))\n\u001b[0;32m   1731\u001b[0m result \u001b[38;5;241m=\u001b[39m _remove_duplicate_solutions(result)\n\u001b[0;32m   1733\u001b[0m \u001b[38;5;28;01mif\u001b[39;00m flags\u001b[38;5;241m.\u001b[39mget(\u001b[38;5;124m'\u001b[39m\u001b[38;5;124msimplify\u001b[39m\u001b[38;5;124m'\u001b[39m, \u001b[38;5;28;01mTrue\u001b[39;00m):\n",
      "\u001b[1;31mNotImplementedError\u001b[0m: multiple generators [(theta**2/X1**3)**exp(-theta/X1), (theta**2/X2**3)**exp(-theta/X2), (theta**2/X3**3)**exp(-theta/X3), (theta**2/X4**3)**exp(-theta/X4), (theta**2/X5**3)**exp(-theta/X5), (theta**2/X6**3)**exp(-theta/X6), exp(theta/X1), exp(theta/X2), exp(theta/X3), exp(theta/X4), exp(theta/X5), exp(theta/X6), log(theta**2/X1**3), log(theta**2/X2**3), log(theta**2/X3**3), log(theta**2/X4**3), log(theta**2/X5**3), log(theta**2/X6**3), theta]\nNo algorithms are implemented to solve equation (theta**2/X1**3)**exp(-theta/X1)*(theta**2/X2**3)**exp(-theta/X2)*(theta**2/X3**3)**exp(-theta/X3)*(theta**2/X4**3)**exp(-theta/X4)*(theta**2/X5**3)**exp(-theta/X5)*(theta**2/X6**3)**exp(-theta/X6)*(2*exp(-theta/X1)/theta - exp(-theta/X1)*log(theta**2/X1**3)/X1) + (theta**2/X1**3)**exp(-theta/X1)*(theta**2/X2**3)**exp(-theta/X2)*(theta**2/X3**3)**exp(-theta/X3)*(theta**2/X4**3)**exp(-theta/X4)*(theta**2/X5**3)**exp(-theta/X5)*(theta**2/X6**3)**exp(-theta/X6)*(2*exp(-theta/X2)/theta - exp(-theta/X2)*log(theta**2/X2**3)/X2) + (theta**2/X1**3)**exp(-theta/X1)*(theta**2/X2**3)**exp(-theta/X2)*(theta**2/X3**3)**exp(-theta/X3)*(theta**2/X4**3)**exp(-theta/X4)*(theta**2/X5**3)**exp(-theta/X5)*(theta**2/X6**3)**exp(-theta/X6)*(2*exp(-theta/X3)/theta - exp(-theta/X3)*log(theta**2/X3**3)/X3) + (theta**2/X1**3)**exp(-theta/X1)*(theta**2/X2**3)**exp(-theta/X2)*(theta**2/X3**3)**exp(-theta/X3)*(theta**2/X4**3)**exp(-theta/X4)*(theta**2/X5**3)**exp(-theta/X5)*(theta**2/X6**3)**exp(-theta/X6)*(2*exp(-theta/X4)/theta - exp(-theta/X4)*log(theta**2/X4**3)/X4) + (theta**2/X1**3)**exp(-theta/X1)*(theta**2/X2**3)**exp(-theta/X2)*(theta**2/X3**3)**exp(-theta/X3)*(theta**2/X4**3)**exp(-theta/X4)*(theta**2/X5**3)**exp(-theta/X5)*(theta**2/X6**3)**exp(-theta/X6)*(2*exp(-theta/X5)/theta - exp(-theta/X5)*log(theta**2/X5**3)/X5) + (theta**2/X1**3)**exp(-theta/X1)*(theta**2/X2**3)**exp(-theta/X2)*(theta**2/X3**3)**exp(-theta/X3)*(theta**2/X4**3)**exp(-theta/X4)*(theta**2/X5**3)**exp(-theta/X5)*(theta**2/X6**3)**exp(-theta/X6)*(2*exp(-theta/X6)/theta - exp(-theta/X6)*log(theta**2/X6**3)/X6)"
     ]
    }
   ],
   "source": [
    "import sympy as sp\n",
    "\n",
    "theta, x = sp.symbols('theta x')\n",
    "n = 6\n",
    "X = sp.symbols('X1:%d' % (n + 1))\n",
    "likelihood = sp.prod((theta ** 2 / Xi ** 3) ** sp.exp(-theta / Xi) for Xi in X)\n",
    "log_likelihood = sp.log(likelihood)\n",
    "\n",
    "diff_result = sp.diff(log_likelihood, theta)\n",
    "print(diff_result)\n",
    "result = sp.solve(diff_result, theta)\n",
    "print(result)\n"
   ]
  },
  {
   "cell_type": "code",
   "execution_count": null,
   "metadata": {},
   "outputs": [],
   "source": []
  }
 ],
 "metadata": {
  "kernelspec": {
   "display_name": "math",
   "language": "python",
   "name": "python3"
  },
  "language_info": {
   "codemirror_mode": {
    "name": "ipython",
    "version": 3
   },
   "file_extension": ".py",
   "mimetype": "text/x-python",
   "name": "python",
   "nbconvert_exporter": "python",
   "pygments_lexer": "ipython3",
   "version": "3.12.0"
  }
 },
 "nbformat": 4,
 "nbformat_minor": 2
}
